{
 "cells": [
  {
   "cell_type": "markdown",
   "id": "ed8e7281",
   "metadata": {},
   "source": [
    "### **1. Imporitng Libraries**"
   ]
  },
  {
   "cell_type": "code",
   "execution_count": 2,
   "id": "e5217b74",
   "metadata": {},
   "outputs": [],
   "source": [
    "import pandas as pd\n",
    "import pyodbc\n",
    "import nltk\n",
    "from nltk.sentiment.vader import SentimentIntensityAnalyzer"
   ]
  },
  {
   "cell_type": "code",
   "execution_count": 3,
   "id": "4e72c584",
   "metadata": {},
   "outputs": [
    {
     "name": "stderr",
     "output_type": "stream",
     "text": [
      "[nltk_data] Downloading package vader_lexicon to\n",
      "[nltk_data]     C:\\Users\\habib\\AppData\\Roaming\\nltk_data...\n",
      "[nltk_data]   Package vader_lexicon is already up-to-date!\n"
     ]
    },
    {
     "data": {
      "text/plain": [
       "True"
      ]
     },
     "execution_count": 3,
     "metadata": {},
     "output_type": "execute_result"
    }
   ],
   "source": [
    "nltk.download('vader_lexicon')"
   ]
  },
  {
   "cell_type": "markdown",
   "id": "f08055b7",
   "metadata": {},
   "source": [
    "### **2. Fetching Data From the SQL Server**"
   ]
  },
  {
   "cell_type": "code",
   "execution_count": 4,
   "id": "9bf50b31",
   "metadata": {},
   "outputs": [
    {
     "name": "stderr",
     "output_type": "stream",
     "text": [
      "<>:4: SyntaxWarning: invalid escape sequence '\\S'\n",
      "<>:4: SyntaxWarning: invalid escape sequence '\\S'\n",
      "C:\\Users\\habib\\AppData\\Local\\Temp\\ipykernel_22752\\121646942.py:4: SyntaxWarning: invalid escape sequence '\\S'\n",
      "  \"Server=HABIBASDEVICE\\SQLEXPRESS;\"\n"
     ]
    }
   ],
   "source": [
    "def fetch_data_from_sql():\n",
    "    conn_str = (\n",
    "        \"Driver={SQL Server};\"\n",
    "        \"Server=HABIBASDEVICE\\SQLEXPRESS;\"\n",
    "        \"Database=PortfolioProject_MarketingAnalytics;\"\n",
    "        \"Trusted_Connection=yes;\"\n",
    "    )\n",
    "    conn = pyodbc.connect(conn_str)\n",
    "    query = \"SELECT ReviewID, CustomerID, ProductID, ReviewDate, Rating, ReviewText FROM customer_reviews\"\n",
    "    df = pd.read_sql(query, conn)\n",
    "    conn.close()\n",
    "    return df"
   ]
  },
  {
   "cell_type": "code",
   "execution_count": 5,
   "id": "10cc4656",
   "metadata": {},
   "outputs": [
    {
     "name": "stderr",
     "output_type": "stream",
     "text": [
      "C:\\Users\\habib\\AppData\\Local\\Temp\\ipykernel_22752\\121646942.py:10: UserWarning: pandas only supports SQLAlchemy connectable (engine/connection) or database string URI or sqlite3 DBAPI2 connection. Other DBAPI2 objects are not tested. Please consider using SQLAlchemy.\n",
      "  df = pd.read_sql(query, conn)\n"
     ]
    }
   ],
   "source": [
    "customer_reviews_df = fetch_data_from_sql()"
   ]
  },
  {
   "cell_type": "markdown",
   "id": "58bef687",
   "metadata": {},
   "source": [
    "### **3. Defining Functions for Sentiment Analysis**"
   ]
  },
  {
   "cell_type": "markdown",
   "id": "6bd14d51",
   "metadata": {},
   "source": [
    "*Initializing VADER sentiment intensity analyzer*"
   ]
  },
  {
   "cell_type": "code",
   "execution_count": 6,
   "id": "dd79f61e",
   "metadata": {},
   "outputs": [],
   "source": [
    "sia = SentimentIntensityAnalyzer()"
   ]
  },
  {
   "cell_type": "code",
   "execution_count": 7,
   "id": "3ac0526e",
   "metadata": {},
   "outputs": [],
   "source": [
    "def calculate_sentiment(review):\n",
    "    sentiment = sia.polarity_scores(review)\n",
    "    return sentiment['compound']    "
   ]
  },
  {
   "cell_type": "markdown",
   "id": "73a496b7",
   "metadata": {},
   "source": [
    "*categorizing sentiments using **both sentiment scores and review ratings***"
   ]
  },
  {
   "cell_type": "code",
   "execution_count": 8,
   "id": "8ea4546b",
   "metadata": {},
   "outputs": [],
   "source": [
    "def categorize_sentiment(score, rating):\n",
    "    if score > 0.05: # +ve sentiment\n",
    "        if rating >= 4:\n",
    "            return 'Positive'\n",
    "        elif rating == 3:\n",
    "            return 'Mixed Positive'\n",
    "        else:\n",
    "            return 'Mixed Negative'\n",
    "    elif score < -0.05: # -ve sentiment\n",
    "        if rating <= 2:\n",
    "            return 'Negative'\n",
    "        elif rating == 3:\n",
    "            return 'Mixed Negative'\n",
    "        else:\n",
    "            return 'Mixed Positive'\n",
    "    else:\n",
    "        if rating >= 4:\n",
    "            return 'Positive'\n",
    "        elif rating <=2:\n",
    "            return 'Negative'\n",
    "        else:\n",
    "            return 'Neutral'"
   ]
  },
  {
   "cell_type": "markdown",
   "id": "3d168f22",
   "metadata": {},
   "source": [
    "*bucketing sentiment scores into text ranges*"
   ]
  },
  {
   "cell_type": "code",
   "execution_count": 9,
   "id": "988830e4",
   "metadata": {},
   "outputs": [],
   "source": [
    "def sentiment_bucket(score):\n",
    "    if score >= 0.5:\n",
    "        return '0.5 to 1.0' # strongly positive\n",
    "    elif 0.0 <= score < 0.5:\n",
    "        return '0.0 to 0.49' # weakly positive\n",
    "    elif -0.5 <= score < 0.0:\n",
    "        return '-0.49 to 0.0' # weakly negative\n",
    "    else:\n",
    "        return '-1.0 to -0.5' # strongly negative"
   ]
  },
  {
   "cell_type": "markdown",
   "id": "4c759d29",
   "metadata": {},
   "source": [
    "*applying sentiment categorization using **both text and rating***"
   ]
  },
  {
   "cell_type": "code",
   "execution_count": 10,
   "id": "3b4e32a9",
   "metadata": {},
   "outputs": [],
   "source": [
    "customer_reviews_df['SentimentScore'] = customer_reviews_df['ReviewText'].apply(calculate_sentiment)"
   ]
  },
  {
   "cell_type": "code",
   "execution_count": 11,
   "id": "76896f33",
   "metadata": {},
   "outputs": [],
   "source": [
    "customer_reviews_df['SentimentCategory'] = customer_reviews_df.apply(\n",
    "    lambda row: categorize_sentiment(row['SentimentScore'], row['Rating']),\n",
    "    axis=1\n",
    ")"
   ]
  },
  {
   "cell_type": "code",
   "execution_count": 12,
   "id": "6615c29e",
   "metadata": {},
   "outputs": [],
   "source": [
    "customer_reviews_df['SentimentBucket'] = customer_reviews_df['SentimentScore'].apply(sentiment_bucket)"
   ]
  },
  {
   "cell_type": "markdown",
   "id": "1b3a4085",
   "metadata": {},
   "source": [
    "### **4. Reviewing Data**"
   ]
  },
  {
   "cell_type": "code",
   "execution_count": 13,
   "id": "308a126d",
   "metadata": {},
   "outputs": [
    {
     "data": {
      "application/vnd.microsoft.datawrangler.viewer.v0+json": {
       "columns": [
        {
         "name": "index",
         "rawType": "int64",
         "type": "integer"
        },
        {
         "name": "ReviewID",
         "rawType": "int64",
         "type": "integer"
        },
        {
         "name": "CustomerID",
         "rawType": "int64",
         "type": "integer"
        },
        {
         "name": "ProductID",
         "rawType": "int64",
         "type": "integer"
        },
        {
         "name": "ReviewDate",
         "rawType": "object",
         "type": "string"
        },
        {
         "name": "Rating",
         "rawType": "int64",
         "type": "integer"
        },
        {
         "name": "ReviewText",
         "rawType": "object",
         "type": "string"
        },
        {
         "name": "SentimentScore",
         "rawType": "float64",
         "type": "float"
        },
        {
         "name": "SentimentCategory",
         "rawType": "object",
         "type": "string"
        },
        {
         "name": "SentimentBucket",
         "rawType": "object",
         "type": "string"
        }
       ],
       "ref": "e9db4e24-407b-47ad-a2af-fe1eb37d5313",
       "rows": [
        [
         "0",
         "1",
         "77",
         "18",
         "2023-12-23",
         "3",
         "Average  experience,  nothing  special.",
         "-0.3089",
         "Mixed Negative",
         "-0.49 to 0.0"
        ],
        [
         "1",
         "2",
         "80",
         "19",
         "2024-12-25",
         "5",
         "The  quality  is    top-notch.",
         "0.0",
         "Positive",
         "0.0 to 0.49"
        ],
        [
         "2",
         "3",
         "50",
         "13",
         "2025-01-26",
         "4",
         "Five  stars  for  the  quick  delivery.",
         "0.0",
         "Positive",
         "0.0 to 0.49"
        ],
        [
         "3",
         "4",
         "78",
         "15",
         "2025-04-21",
         "3",
         "Good  quality,  but  could  be  cheaper.",
         "0.2382",
         "Mixed Positive",
         "0.0 to 0.49"
        ],
        [
         "4",
         "5",
         "64",
         "2",
         "2023-07-16",
         "3",
         "Average  experience,  nothing  special.",
         "-0.3089",
         "Mixed Negative",
         "-0.49 to 0.0"
        ]
       ],
       "shape": {
        "columns": 9,
        "rows": 5
       }
      },
      "text/html": [
       "<div>\n",
       "<style scoped>\n",
       "    .dataframe tbody tr th:only-of-type {\n",
       "        vertical-align: middle;\n",
       "    }\n",
       "\n",
       "    .dataframe tbody tr th {\n",
       "        vertical-align: top;\n",
       "    }\n",
       "\n",
       "    .dataframe thead th {\n",
       "        text-align: right;\n",
       "    }\n",
       "</style>\n",
       "<table border=\"1\" class=\"dataframe\">\n",
       "  <thead>\n",
       "    <tr style=\"text-align: right;\">\n",
       "      <th></th>\n",
       "      <th>ReviewID</th>\n",
       "      <th>CustomerID</th>\n",
       "      <th>ProductID</th>\n",
       "      <th>ReviewDate</th>\n",
       "      <th>Rating</th>\n",
       "      <th>ReviewText</th>\n",
       "      <th>SentimentScore</th>\n",
       "      <th>SentimentCategory</th>\n",
       "      <th>SentimentBucket</th>\n",
       "    </tr>\n",
       "  </thead>\n",
       "  <tbody>\n",
       "    <tr>\n",
       "      <th>0</th>\n",
       "      <td>1</td>\n",
       "      <td>77</td>\n",
       "      <td>18</td>\n",
       "      <td>2023-12-23</td>\n",
       "      <td>3</td>\n",
       "      <td>Average  experience,  nothing  special.</td>\n",
       "      <td>-0.3089</td>\n",
       "      <td>Mixed Negative</td>\n",
       "      <td>-0.49 to 0.0</td>\n",
       "    </tr>\n",
       "    <tr>\n",
       "      <th>1</th>\n",
       "      <td>2</td>\n",
       "      <td>80</td>\n",
       "      <td>19</td>\n",
       "      <td>2024-12-25</td>\n",
       "      <td>5</td>\n",
       "      <td>The  quality  is    top-notch.</td>\n",
       "      <td>0.0000</td>\n",
       "      <td>Positive</td>\n",
       "      <td>0.0 to 0.49</td>\n",
       "    </tr>\n",
       "    <tr>\n",
       "      <th>2</th>\n",
       "      <td>3</td>\n",
       "      <td>50</td>\n",
       "      <td>13</td>\n",
       "      <td>2025-01-26</td>\n",
       "      <td>4</td>\n",
       "      <td>Five  stars  for  the  quick  delivery.</td>\n",
       "      <td>0.0000</td>\n",
       "      <td>Positive</td>\n",
       "      <td>0.0 to 0.49</td>\n",
       "    </tr>\n",
       "    <tr>\n",
       "      <th>3</th>\n",
       "      <td>4</td>\n",
       "      <td>78</td>\n",
       "      <td>15</td>\n",
       "      <td>2025-04-21</td>\n",
       "      <td>3</td>\n",
       "      <td>Good  quality,  but  could  be  cheaper.</td>\n",
       "      <td>0.2382</td>\n",
       "      <td>Mixed Positive</td>\n",
       "      <td>0.0 to 0.49</td>\n",
       "    </tr>\n",
       "    <tr>\n",
       "      <th>4</th>\n",
       "      <td>5</td>\n",
       "      <td>64</td>\n",
       "      <td>2</td>\n",
       "      <td>2023-07-16</td>\n",
       "      <td>3</td>\n",
       "      <td>Average  experience,  nothing  special.</td>\n",
       "      <td>-0.3089</td>\n",
       "      <td>Mixed Negative</td>\n",
       "      <td>-0.49 to 0.0</td>\n",
       "    </tr>\n",
       "  </tbody>\n",
       "</table>\n",
       "</div>"
      ],
      "text/plain": [
       "   ReviewID  CustomerID  ProductID  ReviewDate  Rating  \\\n",
       "0         1          77         18  2023-12-23       3   \n",
       "1         2          80         19  2024-12-25       5   \n",
       "2         3          50         13  2025-01-26       4   \n",
       "3         4          78         15  2025-04-21       3   \n",
       "4         5          64          2  2023-07-16       3   \n",
       "\n",
       "                                 ReviewText  SentimentScore SentimentCategory  \\\n",
       "0   Average  experience,  nothing  special.         -0.3089    Mixed Negative   \n",
       "1            The  quality  is    top-notch.          0.0000          Positive   \n",
       "2   Five  stars  for  the  quick  delivery.          0.0000          Positive   \n",
       "3  Good  quality,  but  could  be  cheaper.          0.2382    Mixed Positive   \n",
       "4   Average  experience,  nothing  special.         -0.3089    Mixed Negative   \n",
       "\n",
       "  SentimentBucket  \n",
       "0    -0.49 to 0.0  \n",
       "1     0.0 to 0.49  \n",
       "2     0.0 to 0.49  \n",
       "3     0.0 to 0.49  \n",
       "4    -0.49 to 0.0  "
      ]
     },
     "execution_count": 13,
     "metadata": {},
     "output_type": "execute_result"
    }
   ],
   "source": [
    "customer_reviews_df.head()"
   ]
  },
  {
   "cell_type": "markdown",
   "id": "08cf616e",
   "metadata": {},
   "source": [
    "### **5. Exporting Data as a CSV File**"
   ]
  },
  {
   "cell_type": "code",
   "execution_count": 14,
   "id": "39206468",
   "metadata": {},
   "outputs": [],
   "source": [
    "customer_reviews_df.to_csv(r'C:\\Users\\habib\\Desktop\\Marketing Analytics\\customer_reviews_with_sentiment.csv', index=False)"
   ]
  }
 ],
 "metadata": {
  "kernelspec": {
   "display_name": "Python 3",
   "language": "python",
   "name": "python3"
  },
  "language_info": {
   "codemirror_mode": {
    "name": "ipython",
    "version": 3
   },
   "file_extension": ".py",
   "mimetype": "text/x-python",
   "name": "python",
   "nbconvert_exporter": "python",
   "pygments_lexer": "ipython3",
   "version": "3.12.6"
  }
 },
 "nbformat": 4,
 "nbformat_minor": 5
}
